{
  "cells": [
    {
      "cell_type": "markdown",
      "metadata": {
        "id": "view-in-github",
        "colab_type": "text"
      },
      "source": [
        "<a href=\"https://colab.research.google.com/github/phil-debbs/greatlearning/blob/gen-ai/MLOps.ipynb\" target=\"_parent\"><img src=\"https://colab.research.google.com/assets/colab-badge.svg\" alt=\"Open In Colab\"/></a>"
      ]
    },
    {
      "cell_type": "code",
      "source": [
        "!pip install session_info"
      ],
      "metadata": {
        "id": "Pe1UCc4LfEPu",
        "colab": {
          "base_uri": "https://localhost:8080/"
        },
        "outputId": "5d20f4ae-123a-4329-dac2-53d9921d4e73"
      },
      "execution_count": 1,
      "outputs": [
        {
          "output_type": "stream",
          "name": "stdout",
          "text": [
            "Collecting session_info\n",
            "  Downloading session_info-1.0.0.tar.gz (24 kB)\n",
            "  Preparing metadata (setup.py) ... \u001b[?25l\u001b[?25hdone\n",
            "Collecting stdlib_list (from session_info)\n",
            "  Downloading stdlib_list-0.10.0-py3-none-any.whl (79 kB)\n",
            "\u001b[2K     \u001b[90m━━━━━━━━━━━━━━━━━━━━━━━━━━━━━━━━━━━━━━━━\u001b[0m \u001b[32m79.8/79.8 kB\u001b[0m \u001b[31m1.4 MB/s\u001b[0m eta \u001b[36m0:00:00\u001b[0m\n",
            "\u001b[?25hBuilding wheels for collected packages: session_info\n",
            "  Building wheel for session_info (setup.py) ... \u001b[?25l\u001b[?25hdone\n",
            "  Created wheel for session_info: filename=session_info-1.0.0-py3-none-any.whl size=8026 sha256=e7a50286c3b1562dcb823351f98ffe608a0f668750975e1034bae288f0c2ced0\n",
            "  Stored in directory: /root/.cache/pip/wheels/6a/aa/b9/eb5d4031476ec10802795b97ccf937b9bd998d68a9b268765a\n",
            "Successfully built session_info\n",
            "Installing collected packages: stdlib_list, session_info\n",
            "Successfully installed session_info-1.0.0 stdlib_list-0.10.0\n"
          ]
        }
      ]
    },
    {
      "cell_type": "code",
      "source": [
        "import sklearn\n",
        "import joblib  #enables multi-processing in python since python executes sequentially.\n",
        "import session_info\n",
        "\n",
        "import pandas as pd\n",
        "\n",
        "from sklearn.datasets import fetch_openml #fetch open ML dataset\n",
        "from sklearn.preprocessing import StandardScaler, OneHotEncoder #onehotencoder for categorical columns\n",
        "from sklearn.compose import make_column_transformer\n",
        "from sklearn.pipeline import make_pipeline\n",
        "from sklearn.model_selection import train_test_split\n",
        "from sklearn.tree import DecisionTreeRegressor"
      ],
      "metadata": {
        "id": "Y0KZQ-RZjkyN"
      },
      "execution_count": 3,
      "outputs": []
    },
    {
      "cell_type": "code",
      "source": [
        "session_info.show()"
      ],
      "metadata": {
        "colab": {
          "base_uri": "https://localhost:8080/",
          "height": 34
        },
        "id": "hcv9uefdlr4N",
        "outputId": "f5e1193d-0d13-4878-a63f-ca27430fd880"
      },
      "execution_count": 4,
      "outputs": [
        {
          "output_type": "execute_result",
          "data": {
            "text/plain": [
              "<IPython.core.display.HTML object>"
            ],
            "text/html": [
              "<details>\n",
              "<summary>Click to view session information</summary>\n",
              "<pre>\n",
              "-----\n",
              "joblib              1.3.2\n",
              "pandas              1.5.3\n",
              "session_info        1.0.0\n",
              "sklearn             1.2.2\n",
              "-----\n",
              "</pre>\n",
              "<details>\n",
              "<summary>Click to view modules imported as dependencies</summary>\n",
              "<pre>\n",
              "PIL                 9.4.0\n",
              "backcall            0.2.0\n",
              "certifi             2024.02.02\n",
              "cffi                1.16.0\n",
              "cloudpickle         2.2.1\n",
              "cycler              0.12.1\n",
              "cython_runtime      NA\n",
              "dateutil            2.8.2\n",
              "debugpy             1.6.6\n",
              "decorator           4.4.2\n",
              "defusedxml          0.7.1\n",
              "google              NA\n",
              "httplib2            0.22.0\n",
              "ipykernel           5.5.6\n",
              "ipython_genutils    0.2.0\n",
              "kiwisolver          1.4.5\n",
              "matplotlib          3.7.1\n",
              "matplotlib_inline   0.1.6\n",
              "mpl_toolkits        NA\n",
              "numexpr             2.9.0\n",
              "numpy               1.25.2\n",
              "packaging           24.0\n",
              "pexpect             4.9.0\n",
              "pickleshare         0.7.5\n",
              "pkg_resources       NA\n",
              "platformdirs        4.2.0\n",
              "portpicker          NA\n",
              "prompt_toolkit      3.0.43\n",
              "psutil              5.9.5\n",
              "ptyprocess          0.7.0\n",
              "pyarrow             14.0.2\n",
              "pydev_ipython       NA\n",
              "pydevconsole        NA\n",
              "pydevd              2.9.5\n",
              "pydevd_file_utils   NA\n",
              "pydevd_plugins      NA\n",
              "pydevd_tracing      NA\n",
              "pygments            2.16.1\n",
              "pyparsing           3.1.2\n",
              "pytz                2023.4\n",
              "scipy               1.11.4\n",
              "setuptools          67.7.2\n",
              "sitecustomize       NA\n",
              "six                 1.16.0\n",
              "socks               1.7.1\n",
              "sphinxcontrib       NA\n",
              "storemagic          NA\n",
              "threadpoolctl       3.4.0\n",
              "tornado             6.3.3\n",
              "traitlets           5.7.1\n",
              "typing_extensions   NA\n",
              "wcwidth             0.2.13\n",
              "zmq                 23.2.1\n",
              "zoneinfo            NA\n",
              "</pre>\n",
              "</details> <!-- seems like this ends pre, so might as well be explicit -->\n",
              "<pre>\n",
              "-----\n",
              "IPython             7.34.0\n",
              "jupyter_client      6.1.12\n",
              "jupyter_core        5.7.2\n",
              "notebook            6.5.5\n",
              "-----\n",
              "Python 3.10.12 (main, Nov 20 2023, 15:14:05) [GCC 11.4.0]\n",
              "Linux-6.1.58+-x86_64-with-glibc2.35\n",
              "-----\n",
              "Session information updated at 2024-03-30 22:59\n",
              "</pre>\n",
              "</details>"
            ]
          },
          "metadata": {},
          "execution_count": 4
        }
      ]
    },
    {
      "cell_type": "code",
      "source": [
        "sklearn.set_config(display='diagram')"
      ],
      "metadata": {
        "id": "Vrld0ocCm5Qt"
      },
      "execution_count": 6,
      "outputs": []
    }
  ],
  "metadata": {
    "colab": {
      "toc_visible": true,
      "provenance": [],
      "include_colab_link": true
    },
    "kernelspec": {
      "display_name": "Python 3",
      "name": "python3"
    }
  },
  "nbformat": 4,
  "nbformat_minor": 0
}